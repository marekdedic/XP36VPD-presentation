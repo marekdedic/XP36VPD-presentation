{
 "cells": [
  {
   "cell_type": "markdown",
   "metadata": {},
   "source": [
    "Instalace balíků - potřeba pustit pouze pokud notebook pouštíte poprvé"
   ]
  },
  {
   "cell_type": "code",
   "execution_count": null,
   "metadata": {},
   "outputs": [],
   "source": [
    "# using Pkg;\n",
    "# Pkg.instantiate();"
   ]
  },
  {
   "cell_type": "markdown",
   "metadata": {},
   "source": [
    "Načtení používaných balíků"
   ]
  },
  {
   "cell_type": "code",
   "execution_count": 1,
   "metadata": {},
   "outputs": [],
   "source": [
    "using GeometricFlux;\n",
    "using Flux;\n",
    "using Flux: onecold, crossentropy, throttle, glorot_uniform, @epochs;\n",
    "using JLD2;  # use v0.1.2\n",
    "using SparseArrays;\n",
    "using Statistics: mean;\n",
    "using LightGraphs: SimpleGraphs, adjacency_matrix;"
   ]
  },
  {
   "cell_type": "markdown",
   "metadata": {},
   "source": [
    "Načtení dat - dataset Cora"
   ]
  },
  {
   "cell_type": "code",
   "execution_count": 2,
   "metadata": {},
   "outputs": [],
   "source": [
    "@load \"data/cora_features.jld2\" features;\n",
    "@load \"data/cora_labels.jld2\" labels;\n",
    "@load \"data/cora_graph.jld2\" g;\n",
    "\n",
    "train_X = Float32.(features);  # dim: num_features * num_nodes\n",
    "train_y = Float32.(labels);  # dim: target_catg * num_nodes\n",
    "\n",
    "adj_mat = Matrix{Float32}(adjacency_matrix(g));"
   ]
  },
  {
   "cell_type": "markdown",
   "metadata": {},
   "source": [
    "Nastavení parametrů modelu\n",
    "- Šířka skryté vrstvy\n",
    "- Počet výstupních tříd\n",
    "- Počet trénovacích epoch"
   ]
  },
  {
   "cell_type": "code",
   "execution_count": 3,
   "metadata": {},
   "outputs": [],
   "source": [
    "hidden_layer_width = 16;\n",
    "num_classes = 7;\n",
    "epochs = 20;"
   ]
  },
  {
   "cell_type": "markdown",
   "metadata": {},
   "source": [
    "Definice modelu pomocí metod balíčku `GeometricFlux.jl`\n",
    "- Jedna vrstva GCN šířky `hidden_layer_width` s aktivační funkcí ReLU\n",
    "- Dropout\n",
    "- Druhá vrstva GCN šířky `num_classes` s lineární aktivací\n",
    "- Softmax funkce"
   ]
  },
  {
   "cell_type": "code",
   "execution_count": null,
   "metadata": {},
   "outputs": [],
   "source": [
    "model = Chain(\n",
    "    GCNConv(adj_mat, size(train_X, 1) => hidden_layer_width, relu),\n",
    "    Dropout(0.5),\n",
    "    GCNConv(adj_mat, hidden_layer_width => num_classes),\n",
    "    softmax\n",
    ");\n",
    "\n",
    "parameters = Flux.params(model);"
   ]
  },
  {
   "cell_type": "markdown",
   "metadata": {},
   "source": [
    "Alternativně si mohu GCN vrstvy definovat sám"
   ]
  },
  {
   "cell_type": "code",
   "execution_count": 4,
   "metadata": {},
   "outputs": [],
   "source": [
    "W1 = Float32.(glorot_uniform(hidden_layer_width, size(train_X, 1)));\n",
    "b1 = Float32.(glorot_uniform(hidden_layer_width))\n",
    "function GCN1(X::AbstractMatrix)\n",
    "    L = normalized_laplacian(adj_mat, eltype(X); selfloop = true);\n",
    "    return relu.(W1 * X * L .+ b1)\n",
    "end\n",
    "\n",
    "W2 = Float32.(glorot_uniform(num_classes, hidden_layer_width));\n",
    "b2 = Float32.(glorot_uniform(num_classes))\n",
    "function GCN2(X::AbstractMatrix)\n",
    "    L = normalized_laplacian(adj_mat, eltype(X); selfloop = true);\n",
    "    return W2 * X * L .+ b2\n",
    "end\n",
    "\n",
    "model = Chain(\n",
    "    GCN1,\n",
    "    Dropout(0.5),\n",
    "    GCN2,\n",
    "    softmax\n",
    ");\n",
    "\n",
    "parameters = Flux.params(W1, b1, W2, b2);"
   ]
  },
  {
   "cell_type": "markdown",
   "metadata": {},
   "source": [
    "Definice ztrátové funkce - cross-entropy. Jako průběžnou míru budeme ukazovat přesnost na trénovacích datech."
   ]
  },
  {
   "cell_type": "code",
   "execution_count": 5,
   "metadata": {},
   "outputs": [],
   "source": [
    "loss(x, y) = crossentropy(model(x), y);\n",
    "accuracy(x, y) = mean(onecold(model(x)) .== onecold(y));"
   ]
  },
  {
   "cell_type": "markdown",
   "metadata": {},
   "source": [
    "Trénujeme pomocí metody ADAM s `η = 0.05`."
   ]
  },
  {
   "cell_type": "code",
   "execution_count": 6,
   "metadata": {},
   "outputs": [
    {
     "name": "stderr",
     "output_type": "stream",
     "text": [
      "┌ Info: Epoch 1\n",
      "└ @ Main /home/marekdedic/.julia/packages/Flux/05b38/src/optimise/train.jl:114\n"
     ]
    },
    {
     "name": "stdout",
     "output_type": "stream",
     "text": [
      "accuracy(train_X, train_y) = 0.17540620384047267\n"
     ]
    },
    {
     "name": "stderr",
     "output_type": "stream",
     "text": [
      "┌ Info: Epoch 2\n",
      "└ @ Main /home/marekdedic/.julia/packages/Flux/05b38/src/optimise/train.jl:114\n"
     ]
    },
    {
     "name": "stdout",
     "output_type": "stream",
     "text": [
      "accuracy(train_X, train_y) = 0.2891432791728213\n"
     ]
    },
    {
     "name": "stderr",
     "output_type": "stream",
     "text": [
      "┌ Info: Epoch 3\n",
      "└ @ Main /home/marekdedic/.julia/packages/Flux/05b38/src/optimise/train.jl:114\n"
     ]
    },
    {
     "name": "stdout",
     "output_type": "stream",
     "text": [
      "accuracy(train_X, train_y) = 0.3308714918759232\n"
     ]
    },
    {
     "name": "stderr",
     "output_type": "stream",
     "text": [
      "┌ Info: Epoch 4\n",
      "└ @ Main /home/marekdedic/.julia/packages/Flux/05b38/src/optimise/train.jl:114\n"
     ]
    },
    {
     "name": "stdout",
     "output_type": "stream",
     "text": [
      "accuracy(train_X, train_y) = 0.35782865583456425\n"
     ]
    },
    {
     "name": "stderr",
     "output_type": "stream",
     "text": [
      "┌ Info: Epoch 5\n",
      "└ @ Main /home/marekdedic/.julia/packages/Flux/05b38/src/optimise/train.jl:114\n"
     ]
    },
    {
     "name": "stdout",
     "output_type": "stream",
     "text": [
      "accuracy(train_X, train_y) = 0.3836779911373708\n"
     ]
    },
    {
     "name": "stderr",
     "output_type": "stream",
     "text": [
      "┌ Info: Epoch 6\n",
      "└ @ Main /home/marekdedic/.julia/packages/Flux/05b38/src/optimise/train.jl:114\n"
     ]
    },
    {
     "name": "stdout",
     "output_type": "stream",
     "text": [
      "accuracy(train_X, train_y) = 0.4146971935007385\n"
     ]
    },
    {
     "name": "stderr",
     "output_type": "stream",
     "text": [
      "┌ Info: Epoch 7\n",
      "└ @ Main /home/marekdedic/.julia/packages/Flux/05b38/src/optimise/train.jl:114\n"
     ]
    },
    {
     "name": "stdout",
     "output_type": "stream",
     "text": [
      "accuracy(train_X, train_y) = 0.44054652880354506\n"
     ]
    },
    {
     "name": "stderr",
     "output_type": "stream",
     "text": [
      "┌ Info: Epoch 8\n",
      "└ @ Main /home/marekdedic/.julia/packages/Flux/05b38/src/optimise/train.jl:114\n"
     ]
    },
    {
     "name": "stdout",
     "output_type": "stream",
     "text": [
      "accuracy(train_X, train_y) = 0.45679468242245197\n"
     ]
    },
    {
     "name": "stderr",
     "output_type": "stream",
     "text": [
      "┌ Info: Epoch 9\n",
      "└ @ Main /home/marekdedic/.julia/packages/Flux/05b38/src/optimise/train.jl:114\n"
     ]
    },
    {
     "name": "stdout",
     "output_type": "stream",
     "text": [
      "accuracy(train_X, train_y) = 0.4634416543574594\n"
     ]
    },
    {
     "name": "stderr",
     "output_type": "stream",
     "text": [
      "┌ Info: Epoch 10\n",
      "└ @ Main /home/marekdedic/.julia/packages/Flux/05b38/src/optimise/train.jl:114\n"
     ]
    },
    {
     "name": "stdout",
     "output_type": "stream",
     "text": [
      "accuracy(train_X, train_y) = 0.465288035450517\n"
     ]
    },
    {
     "name": "stderr",
     "output_type": "stream",
     "text": [
      "┌ Info: Epoch 11\n",
      "└ @ Main /home/marekdedic/.julia/packages/Flux/05b38/src/optimise/train.jl:114\n"
     ]
    },
    {
     "name": "stdout",
     "output_type": "stream",
     "text": [
      "accuracy(train_X, train_y) = 0.46122599704579026\n"
     ]
    },
    {
     "name": "stderr",
     "output_type": "stream",
     "text": [
      "┌ Info: Epoch 12\n",
      "└ @ Main /home/marekdedic/.julia/packages/Flux/05b38/src/optimise/train.jl:114\n"
     ]
    },
    {
     "name": "stdout",
     "output_type": "stream",
     "text": [
      "accuracy(train_X, train_y) = 0.46491875923190545\n"
     ]
    },
    {
     "name": "stderr",
     "output_type": "stream",
     "text": [
      "┌ Info: Epoch 13\n",
      "└ @ Main /home/marekdedic/.julia/packages/Flux/05b38/src/optimise/train.jl:114\n"
     ]
    },
    {
     "name": "stdout",
     "output_type": "stream",
     "text": [
      "accuracy(train_X, train_y) = 0.473781388478582\n"
     ]
    },
    {
     "name": "stderr",
     "output_type": "stream",
     "text": [
      "┌ Info: Epoch 14\n",
      "└ @ Main /home/marekdedic/.julia/packages/Flux/05b38/src/optimise/train.jl:114\n"
     ]
    },
    {
     "name": "stdout",
     "output_type": "stream",
     "text": [
      "accuracy(train_X, train_y) = 0.48522895125553916\n"
     ]
    },
    {
     "name": "stderr",
     "output_type": "stream",
     "text": [
      "┌ Info: Epoch 15\n",
      "└ @ Main /home/marekdedic/.julia/packages/Flux/05b38/src/optimise/train.jl:114\n"
     ]
    },
    {
     "name": "stdout",
     "output_type": "stream",
     "text": [
      "accuracy(train_X, train_y) = 0.4951994091580502\n"
     ]
    },
    {
     "name": "stderr",
     "output_type": "stream",
     "text": [
      "┌ Info: Epoch 16\n",
      "└ @ Main /home/marekdedic/.julia/packages/Flux/05b38/src/optimise/train.jl:114\n"
     ]
    },
    {
     "name": "stdout",
     "output_type": "stream",
     "text": [
      "accuracy(train_X, train_y) = 0.5062776957163959\n"
     ]
    },
    {
     "name": "stderr",
     "output_type": "stream",
     "text": [
      "┌ Info: Epoch 17\n",
      "└ @ Main /home/marekdedic/.julia/packages/Flux/05b38/src/optimise/train.jl:114\n"
     ]
    },
    {
     "name": "stdout",
     "output_type": "stream",
     "text": [
      "accuracy(train_X, train_y) = 0.5188330871491876\n"
     ]
    },
    {
     "name": "stderr",
     "output_type": "stream",
     "text": [
      "┌ Info: Epoch 18\n",
      "└ @ Main /home/marekdedic/.julia/packages/Flux/05b38/src/optimise/train.jl:114\n"
     ]
    },
    {
     "name": "stdout",
     "output_type": "stream",
     "text": [
      "accuracy(train_X, train_y) = 0.5214180206794683\n"
     ]
    },
    {
     "name": "stderr",
     "output_type": "stream",
     "text": [
      "┌ Info: Epoch 19\n",
      "└ @ Main /home/marekdedic/.julia/packages/Flux/05b38/src/optimise/train.jl:114\n"
     ]
    },
    {
     "name": "stdout",
     "output_type": "stream",
     "text": [
      "accuracy(train_X, train_y) = 0.5273264401772526\n"
     ]
    },
    {
     "name": "stderr",
     "output_type": "stream",
     "text": [
      "┌ Info: Epoch 20\n",
      "└ @ Main /home/marekdedic/.julia/packages/Flux/05b38/src/optimise/train.jl:114\n"
     ]
    },
    {
     "name": "stdout",
     "output_type": "stream",
     "text": [
      "accuracy(train_X, train_y) = 0.53397341211226\n"
     ]
    }
   ],
   "source": [
    "train_data = [(train_X, train_y)];\n",
    "opt = ADAM(0.05);\n",
    "evalcb() = @show(accuracy(train_X, train_y));\n",
    "\n",
    "@epochs epochs Flux.train!(loss, parameters, train_data, opt, cb=throttle(evalcb, 10));"
   ]
  },
  {
   "cell_type": "markdown",
   "metadata": {},
   "source": [
    "Kód je modifikací příkladů balíčku [GeometricFlux.jl](https://github.com/yuehhua/GeometricFlux.jl)."
   ]
  },
  {
   "cell_type": "code",
   "execution_count": null,
   "metadata": {},
   "outputs": [],
   "source": []
  }
 ],
 "metadata": {
  "kernelspec": {
   "display_name": "Julia 1.5.2",
   "language": "julia",
   "name": "julia-1.5"
  },
  "language_info": {
   "file_extension": ".jl",
   "mimetype": "application/julia",
   "name": "julia",
   "version": "1.5.2"
  }
 },
 "nbformat": 4,
 "nbformat_minor": 4
}
