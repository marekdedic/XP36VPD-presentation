{
 "cells": [
  {
   "cell_type": "code",
   "execution_count": 1,
   "metadata": {},
   "outputs": [],
   "source": [
    "using GeometricFlux;\n",
    "using Flux;\n",
    "using Flux: onecold, crossentropy, throttle, @epochs;\n",
    "using JLD2;  # use v0.1.2\n",
    "using SparseArrays;\n",
    "using Statistics: mean;\n",
    "using LightGraphs: SimpleGraphs, adjacency_matrix;"
   ]
  },
  {
   "cell_type": "markdown",
   "metadata": {},
   "source": [
    "Načtení dat - dataset Cora"
   ]
  },
  {
   "cell_type": "code",
   "execution_count": 2,
   "metadata": {},
   "outputs": [],
   "source": [
    "@load \"data/cora_features.jld2\" features;\n",
    "@load \"data/cora_labels.jld2\" labels;\n",
    "@load \"data/cora_graph.jld2\" g;\n",
    "\n",
    "## Preprocessing data\n",
    "train_X = Float32.(features);  # dim: num_features * num_nodes\n",
    "train_y = Float32.(labels);  # dim: target_catg * num_nodes\n",
    "\n",
    "adj_mat = Matrix{Float32}(adjacency_matrix(g));"
   ]
  },
  {
   "cell_type": "markdown",
   "metadata": {},
   "source": [
    "Nastavení parametrů modelu\n",
    "- Šířka skryté vrstvy\n",
    "- Počet výstupních tříd\n",
    "- Počet trénovacích epoch"
   ]
  },
  {
   "cell_type": "code",
   "execution_count": 3,
   "metadata": {},
   "outputs": [],
   "source": [
    "hidden_layer_width = 16;\n",
    "num_classes = 7;\n",
    "epochs = 20;"
   ]
  },
  {
   "cell_type": "markdown",
   "metadata": {},
   "source": [
    "Definice modelu pomocí metod balíčku `GeometricFlux.jl`\n",
    "- Jedna vrstva GCN šířky `hidden` s aktivační funkcí ReLU\n",
    "- Dropout\n",
    "- Druhá vrstva GCN šířky `num_classes` s lineární aktivací\n",
    "- Softmax funkce"
   ]
  },
  {
   "cell_type": "code",
   "execution_count": 4,
   "metadata": {},
   "outputs": [],
   "source": [
    "## Model\n",
    "model = Chain(\n",
    "    GCNConv(adj_mat, size(train_X, 1) => hidden_layer_width, relu),\n",
    "    Dropout(0.5),\n",
    "    GCNConv(adj_mat, hidden_layer_width => num_classes),\n",
    "    softmax\n",
    ");"
   ]
  },
  {
   "cell_type": "markdown",
   "metadata": {},
   "source": [
    "Definice ztrátové funkce - cross-entropy. Jako průběžnou míru budeme ukazovat přesnost na trénovacích datech."
   ]
  },
  {
   "cell_type": "code",
   "execution_count": 5,
   "metadata": {},
   "outputs": [],
   "source": [
    "## Loss\n",
    "loss(x, y) = crossentropy(model(x), y);\n",
    "accuracy(x, y) = mean(onecold(model(x)) .== onecold(y));"
   ]
  },
  {
   "cell_type": "markdown",
   "metadata": {},
   "source": [
    "Trénujeme pomocí metody ADAM s `η = 0.05`."
   ]
  },
  {
   "cell_type": "code",
   "execution_count": 6,
   "metadata": {},
   "outputs": [
    {
     "name": "stderr",
     "output_type": "stream",
     "text": [
      "┌ Info: Epoch 1\n",
      "└ @ Main /home/marekdedic/.julia/packages/Flux/05b38/src/optimise/train.jl:114\n"
     ]
    },
    {
     "name": "stdout",
     "output_type": "stream",
     "text": [
      "accuracy(train_X, train_y) = 0.08825701624815362\n"
     ]
    },
    {
     "name": "stderr",
     "output_type": "stream",
     "text": [
      "┌ Info: Epoch 2\n",
      "└ @ Main /home/marekdedic/.julia/packages/Flux/05b38/src/optimise/train.jl:114\n"
     ]
    },
    {
     "name": "stdout",
     "output_type": "stream",
     "text": [
      "accuracy(train_X, train_y) = 0.09933530280649926\n"
     ]
    },
    {
     "name": "stderr",
     "output_type": "stream",
     "text": [
      "┌ Info: Epoch 3\n",
      "└ @ Main /home/marekdedic/.julia/packages/Flux/05b38/src/optimise/train.jl:114\n"
     ]
    },
    {
     "name": "stdout",
     "output_type": "stream",
     "text": [
      "accuracy(train_X, train_y) = 0.15398818316100443\n"
     ]
    },
    {
     "name": "stderr",
     "output_type": "stream",
     "text": [
      "┌ Info: Epoch 4\n",
      "└ @ Main /home/marekdedic/.julia/packages/Flux/05b38/src/optimise/train.jl:114\n"
     ]
    },
    {
     "name": "stdout",
     "output_type": "stream",
     "text": [
      "accuracy(train_X, train_y) = 0.20901033973412111\n"
     ]
    },
    {
     "name": "stderr",
     "output_type": "stream",
     "text": [
      "┌ Info: Epoch 5\n",
      "└ @ Main /home/marekdedic/.julia/packages/Flux/05b38/src/optimise/train.jl:114\n"
     ]
    },
    {
     "name": "stdout",
     "output_type": "stream",
     "text": [
      "accuracy(train_X, train_y) = 0.26292466765140327\n"
     ]
    },
    {
     "name": "stderr",
     "output_type": "stream",
     "text": [
      "┌ Info: Epoch 6\n",
      "└ @ Main /home/marekdedic/.julia/packages/Flux/05b38/src/optimise/train.jl:114\n"
     ]
    },
    {
     "name": "stdout",
     "output_type": "stream",
     "text": [
      "accuracy(train_X, train_y) = 0.3076070901033973\n"
     ]
    },
    {
     "name": "stderr",
     "output_type": "stream",
     "text": [
      "┌ Info: Epoch 7\n",
      "└ @ Main /home/marekdedic/.julia/packages/Flux/05b38/src/optimise/train.jl:114\n"
     ]
    },
    {
     "name": "stdout",
     "output_type": "stream",
     "text": [
      "accuracy(train_X, train_y) = 0.34268833087149186\n"
     ]
    },
    {
     "name": "stderr",
     "output_type": "stream",
     "text": [
      "┌ Info: Epoch 8\n",
      "└ @ Main /home/marekdedic/.julia/packages/Flux/05b38/src/optimise/train.jl:114\n"
     ]
    },
    {
     "name": "stdout",
     "output_type": "stream",
     "text": [
      "accuracy(train_X, train_y) = 0.3744460856720827\n"
     ]
    },
    {
     "name": "stderr",
     "output_type": "stream",
     "text": [
      "┌ Info: Epoch 9\n",
      "└ @ Main /home/marekdedic/.julia/packages/Flux/05b38/src/optimise/train.jl:114\n"
     ]
    },
    {
     "name": "stdout",
     "output_type": "stream",
     "text": [
      "accuracy(train_X, train_y) = 0.4069423929098966\n"
     ]
    },
    {
     "name": "stderr",
     "output_type": "stream",
     "text": [
      "┌ Info: Epoch 10\n",
      "└ @ Main /home/marekdedic/.julia/packages/Flux/05b38/src/optimise/train.jl:114\n"
     ]
    },
    {
     "name": "stdout",
     "output_type": "stream",
     "text": [
      "accuracy(train_X, train_y) = 0.4287296898079764\n"
     ]
    },
    {
     "name": "stderr",
     "output_type": "stream",
     "text": [
      "┌ Info: Epoch 11\n",
      "└ @ Main /home/marekdedic/.julia/packages/Flux/05b38/src/optimise/train.jl:114\n"
     ]
    },
    {
     "name": "stdout",
     "output_type": "stream",
     "text": [
      "accuracy(train_X, train_y) = 0.45605612998522893\n"
     ]
    },
    {
     "name": "stderr",
     "output_type": "stream",
     "text": [
      "┌ Info: Epoch 12\n",
      "└ @ Main /home/marekdedic/.julia/packages/Flux/05b38/src/optimise/train.jl:114\n"
     ]
    },
    {
     "name": "stdout",
     "output_type": "stream",
     "text": [
      "accuracy(train_X, train_y) = 0.48005908419497784\n"
     ]
    },
    {
     "name": "stderr",
     "output_type": "stream",
     "text": [
      "┌ Info: Epoch 13\n",
      "└ @ Main /home/marekdedic/.julia/packages/Flux/05b38/src/optimise/train.jl:114\n"
     ]
    },
    {
     "name": "stdout",
     "output_type": "stream",
     "text": [
      "accuracy(train_X, train_y) = 0.4977843426883309\n"
     ]
    },
    {
     "name": "stderr",
     "output_type": "stream",
     "text": [
      "┌ Info: Epoch 14\n",
      "└ @ Main /home/marekdedic/.julia/packages/Flux/05b38/src/optimise/train.jl:114\n"
     ]
    },
    {
     "name": "stdout",
     "output_type": "stream",
     "text": [
      "accuracy(train_X, train_y) = 0.5158788774002954\n"
     ]
    },
    {
     "name": "stderr",
     "output_type": "stream",
     "text": [
      "┌ Info: Epoch 15\n",
      "└ @ Main /home/marekdedic/.julia/packages/Flux/05b38/src/optimise/train.jl:114\n"
     ]
    },
    {
     "name": "stdout",
     "output_type": "stream",
     "text": [
      "accuracy(train_X, train_y) = 0.5243722304283605\n"
     ]
    },
    {
     "name": "stderr",
     "output_type": "stream",
     "text": [
      "┌ Info: Epoch 16\n",
      "└ @ Main /home/marekdedic/.julia/packages/Flux/05b38/src/optimise/train.jl:114\n"
     ]
    },
    {
     "name": "stdout",
     "output_type": "stream",
     "text": [
      "accuracy(train_X, train_y) = 0.5324963072378139\n"
     ]
    },
    {
     "name": "stderr",
     "output_type": "stream",
     "text": [
      "┌ Info: Epoch 17\n",
      "└ @ Main /home/marekdedic/.julia/packages/Flux/05b38/src/optimise/train.jl:114\n"
     ]
    },
    {
     "name": "stdout",
     "output_type": "stream",
     "text": [
      "accuracy(train_X, train_y) = 0.5350812407680945\n"
     ]
    },
    {
     "name": "stderr",
     "output_type": "stream",
     "text": [
      "┌ Info: Epoch 18\n",
      "└ @ Main /home/marekdedic/.julia/packages/Flux/05b38/src/optimise/train.jl:114\n"
     ]
    },
    {
     "name": "stdout",
     "output_type": "stream",
     "text": [
      "accuracy(train_X, train_y) = 0.5409896602658789\n"
     ]
    },
    {
     "name": "stderr",
     "output_type": "stream",
     "text": [
      "┌ Info: Epoch 19\n",
      "└ @ Main /home/marekdedic/.julia/packages/Flux/05b38/src/optimise/train.jl:114\n"
     ]
    },
    {
     "name": "stdout",
     "output_type": "stream",
     "text": [
      "accuracy(train_X, train_y) = 0.5428360413589365\n"
     ]
    },
    {
     "name": "stderr",
     "output_type": "stream",
     "text": [
      "┌ Info: Epoch 20\n",
      "└ @ Main /home/marekdedic/.julia/packages/Flux/05b38/src/optimise/train.jl:114\n"
     ]
    },
    {
     "name": "stdout",
     "output_type": "stream",
     "text": [
      "accuracy(train_X, train_y) = 0.5443131462333826\n"
     ]
    }
   ],
   "source": [
    "## Training\n",
    "train_data = [(train_X, train_y)];\n",
    "opt = ADAM(0.05);\n",
    "evalcb() = @show(accuracy(train_X, train_y));\n",
    "\n",
    "@epochs epochs Flux.train!(loss, Flux.params(model), train_data, opt, cb=throttle(evalcb, 10));"
   ]
  },
  {
   "cell_type": "markdown",
   "metadata": {},
   "source": [
    "Kód je modifikací příkladů balíčku [GeometricFlux.jl](https://github.com/yuehhua/GeometricFlux.jl)."
   ]
  }
 ],
 "metadata": {
  "kernelspec": {
   "display_name": "Julia 1.5.2",
   "language": "julia",
   "name": "julia-1.5"
  },
  "language_info": {
   "file_extension": ".jl",
   "mimetype": "application/julia",
   "name": "julia",
   "version": "1.5.2"
  }
 },
 "nbformat": 4,
 "nbformat_minor": 4
}
