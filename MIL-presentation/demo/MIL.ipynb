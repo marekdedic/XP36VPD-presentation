{
 "cells": [
  {
   "cell_type": "markdown",
   "metadata": {},
   "source": [
    "Aktivace Julia prostředí"
   ]
  },
  {
   "cell_type": "code",
   "execution_count": 1,
   "metadata": {},
   "outputs": [
    {
     "name": "stderr",
     "output_type": "stream",
     "text": [
      "\u001b[32m\u001b[1m Activating\u001b[22m\u001b[39m environment at `~/Documents/git/XP36VPD-presentations/MIL-presentation/demo/Project.toml`\n"
     ]
    }
   ],
   "source": [
    "using Pkg;\n",
    "Pkg.activate(\".\");"
   ]
  },
  {
   "cell_type": "markdown",
   "metadata": {},
   "source": [
    "Instalace balíků - potřeba pustit pouze pokud notebook pouštíte poprvé"
   ]
  },
  {
   "cell_type": "code",
   "execution_count": 2,
   "metadata": {},
   "outputs": [],
   "source": [
    "# Pkg.instantiate();"
   ]
  },
  {
   "cell_type": "markdown",
   "metadata": {},
   "source": [
    "Načtení používaných balíků"
   ]
  },
  {
   "cell_type": "code",
   "execution_count": 3,
   "metadata": {},
   "outputs": [],
   "source": [
    "using Flux;\n",
    "using Flux: @epochs, logitcrossentropy, onehotbatch, throttle;\n",
    "using JLD2;\n",
    "using Mill;\n",
    "using MilDatasets;\n",
    "using Random;\n",
    "using Statistics;"
   ]
  },
  {
   "cell_type": "markdown",
   "metadata": {},
   "source": [
    "Načtení dat - dataset Musk2"
   ]
  },
  {
   "cell_type": "code",
   "execution_count": 4,
   "metadata": {},
   "outputs": [],
   "source": [
    "@load \"Musk2.jld2\" X bags y;"
   ]
  },
  {
   "cell_type": "markdown",
   "metadata": {},
   "source": [
    "`X` je matice příznaků instancí"
   ]
  },
  {
   "cell_type": "code",
   "execution_count": 5,
   "metadata": {},
   "outputs": [
    {
     "data": {
      "text/plain": [
       "166×6598 Array{Float64,2}:\n",
       "   46.0    41.0    46.0    41.0    41.0  …    44.0    44.0    51.0    51.0\n",
       " -108.0  -188.0  -194.0  -188.0  -188.0     -104.0  -102.0  -121.0  -122.0\n",
       "  -60.0  -145.0  -145.0  -145.0  -145.0      -19.0   -19.0   -23.0   -23.0\n",
       "  -69.0    22.0    28.0    22.0    22.0     -105.0  -104.0  -106.0  -106.0\n",
       " -117.0  -117.0  -117.0  -117.0  -117.0     -117.0  -117.0  -117.0  -117.0\n",
       "   49.0    -6.0    73.0    -7.0    -7.0  …   142.0    72.0    63.0   190.0\n",
       "   38.0    57.0    57.0    57.0    57.0     -165.0  -165.0  -161.0  -161.0\n",
       " -161.0  -171.0  -168.0  -170.0  -170.0       68.0    65.0    79.0    80.0\n",
       "   -8.0   -39.0   -39.0   -39.0   -39.0     -225.0  -219.0  -224.0  -227.0\n",
       "    5.0  -100.0   -22.0   -99.0   -99.0      -32.0   -12.0   -30.0   -52.0\n",
       " -323.0  -319.0  -319.0  -319.0  -319.0  …  -124.0  -107.0  -129.0  -139.0\n",
       " -220.0  -111.0  -111.0  -111.0  -111.0      -77.0   -66.0   -54.0   -63.0\n",
       " -113.0  -228.0  -104.0  -228.0  -228.0      -43.0   -58.0   -60.0   -51.0\n",
       "    ⋮                                    ⋱             ⋮            \n",
       "  128.0   115.0    77.0   115.0   115.0      -49.0   -47.0   124.0   124.0\n",
       "    3.0    -5.0  -163.0    -7.0    -8.0  …   -85.0   -84.0   -11.0   -11.0\n",
       " -244.0  -235.0  -238.0  -236.0  -236.0       60.0  -226.0  -238.0    95.0\n",
       " -308.0   -59.0  -134.0   -60.0   -60.0      -51.0    90.0    86.0    40.0\n",
       "   52.0    -2.0  -154.0    -4.0    -4.0      166.0   117.0    99.0   124.0\n",
       "   -7.0    52.0    57.0    52.0    52.0       -9.0    -8.0   -14.0   -14.0\n",
       "   39.0   103.0   143.0   104.0   104.0  …   150.0   150.0   -31.0   -30.0\n",
       "  126.0   136.0   142.0   136.0   137.0      129.0   130.0   106.0   107.0\n",
       "  156.0   169.0   165.0   168.0   168.0      158.0   159.0   171.0   171.0\n",
       "  -50.0   -61.0   -67.0   -60.0   -60.0      -66.0   -66.0   -44.0   -44.0\n",
       " -112.0  -136.0  -145.0  -135.0  -135.0     -144.0  -144.0  -116.0  -115.0\n",
       "   96.0    79.0    39.0    80.0    80.0  …    -5.0    -6.0   117.0   118.0"
      ]
     },
     "execution_count": 5,
     "metadata": {},
     "output_type": "execute_result"
    }
   ],
   "source": [
    "X"
   ]
  },
  {
   "cell_type": "markdown",
   "metadata": {},
   "source": [
    "`bags` je přiřazení instancí do bagů"
   ]
  },
  {
   "cell_type": "code",
   "execution_count": 6,
   "metadata": {},
   "outputs": [
    {
     "data": {
      "text/plain": [
       "6598-element Array{Int64,1}:\n",
       "   1\n",
       "   1\n",
       "   1\n",
       "   1\n",
       "   1\n",
       "   1\n",
       "   1\n",
       "   1\n",
       "   1\n",
       "   1\n",
       "   1\n",
       "   1\n",
       "   1\n",
       "   ⋮\n",
       " 102\n",
       " 102\n",
       " 102\n",
       " 102\n",
       " 102\n",
       " 102\n",
       " 102\n",
       " 102\n",
       " 102\n",
       " 102\n",
       " 102\n",
       " 102"
      ]
     },
     "execution_count": 6,
     "metadata": {},
     "output_type": "execute_result"
    }
   ],
   "source": [
    "bags"
   ]
  },
  {
   "cell_type": "markdown",
   "metadata": {},
   "source": [
    "`y` je vektor tříd - pouze na úrovni bagů"
   ]
  },
  {
   "cell_type": "code",
   "execution_count": 7,
   "metadata": {},
   "outputs": [
    {
     "data": {
      "text/plain": [
       "102-element Array{Int64,1}:\n",
       " 1\n",
       " 1\n",
       " 1\n",
       " 1\n",
       " 1\n",
       " 1\n",
       " 1\n",
       " 1\n",
       " 1\n",
       " 1\n",
       " 1\n",
       " 1\n",
       " 1\n",
       " ⋮\n",
       " 0\n",
       " 0\n",
       " 0\n",
       " 0\n",
       " 0\n",
       " 0\n",
       " 0\n",
       " 0\n",
       " 0\n",
       " 0\n",
       " 0\n",
       " 0"
      ]
     },
     "execution_count": 7,
     "metadata": {},
     "output_type": "execute_result"
    }
   ],
   "source": [
    "y"
   ]
  },
  {
   "cell_type": "code",
   "execution_count": 8,
   "metadata": {},
   "outputs": [
    {
     "data": {
      "text/plain": [
       "\u001b[34mBagNode with 102 bag(s)\u001b[39m\n",
       "\u001b[34m  └── \u001b[39m\u001b[37mArrayNode(166, 6598)\u001b[39m"
      ]
     },
     "execution_count": 8,
     "metadata": {},
     "output_type": "execute_result"
    }
   ],
   "source": [
    "ds = BagNode(ArrayNode(X), bags, y)"
   ]
  },
  {
   "cell_type": "markdown",
   "metadata": {},
   "source": [
    "Alternativně načteme data z balíčku běžně používaných MIL datasetů"
   ]
  },
  {
   "cell_type": "code",
   "execution_count": 9,
   "metadata": {},
   "outputs": [
    {
     "data": {
      "text/plain": [
       "\u001b[34mBagNode with 102 bag(s)\u001b[39m\n",
       "\u001b[34m  └── \u001b[39m\u001b[37mArrayNode(166, 6598)\u001b[39m"
      ]
     },
     "execution_count": 9,
     "metadata": {},
     "output_type": "execute_result"
    }
   ],
   "source": [
    "ds = MilDatasets.Musk2()"
   ]
  },
  {
   "cell_type": "markdown",
   "metadata": {},
   "source": [
    "Rozdělení na trénovací a testovací data"
   ]
  },
  {
   "cell_type": "code",
   "execution_count": 10,
   "metadata": {},
   "outputs": [],
   "source": [
    "perm = randperm(length(ds.bags));\n",
    "delim = Int(round(0.8 * length(ds.bags)));\n",
    "train = ds[perm[1:delim]];\n",
    "test = ds[perm[delim + 1:end]];"
   ]
  },
  {
   "cell_type": "markdown",
   "metadata": {},
   "source": [
    "Nastavení parametrů modelu\n",
    "- Šířka skryté vrstvy\n",
    "- Počet epoch"
   ]
  },
  {
   "cell_type": "code",
   "execution_count": 11,
   "metadata": {},
   "outputs": [],
   "source": [
    "hidden_layer_width = 10;\n",
    "epochs = 10;"
   ]
  },
  {
   "cell_type": "markdown",
   "metadata": {},
   "source": [
    "Definice modelu pomocí metod balíčku `Mill.jl`\n",
    "- Instanční model: Dvě vrstvy šířky `hidden_layer_width` s aktivační funkcí ReLU\n",
    "- Agregace: `mean` a `max`\n",
    "- Bag model: Dvě vrstvy šířky `hidden_layer_width` s aktivační funkcí ReLU"
   ]
  },
  {
   "cell_type": "code",
   "execution_count": 12,
   "metadata": {},
   "outputs": [
    {
     "data": {
      "text/plain": [
       "\u001b[34mBagModel ↦ ⟨SegmentedMean(10), SegmentedMax(10)⟩ ↦ ArrayModel(Chain(Dense(20, 10, relu), Dense(10, 2)))\u001b[39m\n",
       "\u001b[34m  └── \u001b[39m\u001b[37mArrayModel(Dense(166, 10, relu))\u001b[39m"
      ]
     },
     "execution_count": 12,
     "metadata": {},
     "output_type": "execute_result"
    }
   ],
   "source": [
    "model = BagModel(\n",
    "    Dense(size(train.data.data, 1), hidden_layer_width, relu),\n",
    "    SegmentedMeanMax(hidden_layer_width),\n",
    "    Chain(Dense(2 * hidden_layer_width, hidden_layer_width, relu), Dense(hidden_layer_width, 2))\n",
    ")"
   ]
  },
  {
   "cell_type": "markdown",
   "metadata": {},
   "source": [
    "Definice ztrátové funkce - cross-entropy."
   ]
  },
  {
   "cell_type": "code",
   "execution_count": 13,
   "metadata": {},
   "outputs": [],
   "source": [
    "loss(x) = logitcrossentropy(model(x).data, onehotbatch(x.metadata, 0:1));"
   ]
  },
  {
   "cell_type": "markdown",
   "metadata": {},
   "source": [
    "Trénujeme pomocí metody ADAM s `η = 0.05`."
   ]
  },
  {
   "cell_type": "code",
   "execution_count": 14,
   "metadata": {},
   "outputs": [
    {
     "name": "stderr",
     "output_type": "stream",
     "text": [
      "┌ Info: Epoch 1\n",
      "└ @ Main /home/marekdedic/.julia/packages/Flux/q3zeA/src/optimise/train.jl:136\n"
     ]
    },
    {
     "name": "stdout",
     "output_type": "stream",
     "text": [
      "loss(test) = 237.47441f0\n"
     ]
    },
    {
     "name": "stderr",
     "output_type": "stream",
     "text": [
      "┌ Info: Epoch 2\n",
      "└ @ Main /home/marekdedic/.julia/packages/Flux/q3zeA/src/optimise/train.jl:136\n"
     ]
    },
    {
     "name": "stdout",
     "output_type": "stream",
     "text": [
      "loss(test) = 84.63966f0\n"
     ]
    },
    {
     "name": "stderr",
     "output_type": "stream",
     "text": [
      "┌ Info: Epoch 3\n",
      "└ @ Main /home/marekdedic/.julia/packages/Flux/q3zeA/src/optimise/train.jl:136\n"
     ]
    },
    {
     "name": "stdout",
     "output_type": "stream",
     "text": [
      "loss(test) = 17.265991f0\n"
     ]
    },
    {
     "name": "stderr",
     "output_type": "stream",
     "text": [
      "┌ Info: Epoch 4\n",
      "└ @ Main /home/marekdedic/.julia/packages/Flux/q3zeA/src/optimise/train.jl:136\n"
     ]
    },
    {
     "name": "stdout",
     "output_type": "stream",
     "text": [
      "loss(test) = 18.48794f0\n"
     ]
    },
    {
     "name": "stderr",
     "output_type": "stream",
     "text": [
      "┌ Info: Epoch 5\n",
      "└ @ Main /home/marekdedic/.julia/packages/Flux/q3zeA/src/optimise/train.jl:136\n"
     ]
    },
    {
     "name": "stdout",
     "output_type": "stream",
     "text": [
      "loss(test) = 7.2142744f0\n"
     ]
    },
    {
     "name": "stderr",
     "output_type": "stream",
     "text": [
      "┌ Info: Epoch 6\n",
      "└ @ Main /home/marekdedic/.julia/packages/Flux/q3zeA/src/optimise/train.jl:136\n"
     ]
    },
    {
     "name": "stdout",
     "output_type": "stream",
     "text": [
      "loss(test) = 2.4359815f0\n"
     ]
    },
    {
     "name": "stderr",
     "output_type": "stream",
     "text": [
      "┌ Info: Epoch 7\n",
      "└ @ Main /home/marekdedic/.julia/packages/Flux/q3zeA/src/optimise/train.jl:136\n"
     ]
    },
    {
     "name": "stdout",
     "output_type": "stream",
     "text": [
      "loss(test) = 2.1777444f0\n"
     ]
    },
    {
     "name": "stderr",
     "output_type": "stream",
     "text": [
      "┌ Info: Epoch 8\n",
      "└ @ Main /home/marekdedic/.julia/packages/Flux/q3zeA/src/optimise/train.jl:136\n"
     ]
    },
    {
     "name": "stdout",
     "output_type": "stream",
     "text": [
      "loss(test) = 2.269794f0\n"
     ]
    },
    {
     "name": "stderr",
     "output_type": "stream",
     "text": [
      "┌ Info: Epoch 9\n",
      "└ @ Main /home/marekdedic/.julia/packages/Flux/q3zeA/src/optimise/train.jl:136\n"
     ]
    },
    {
     "name": "stdout",
     "output_type": "stream",
     "text": [
      "loss(test) = 1.8330243f0\n"
     ]
    },
    {
     "name": "stderr",
     "output_type": "stream",
     "text": [
      "┌ Info: Epoch 10\n",
      "└ @ Main /home/marekdedic/.julia/packages/Flux/q3zeA/src/optimise/train.jl:136\n"
     ]
    },
    {
     "name": "stdout",
     "output_type": "stream",
     "text": [
      "loss(test) = 1.3226635f0\n"
     ]
    }
   ],
   "source": [
    "opt = ADAM(0.05);\n",
    "evalcb() = @show(loss(test));\n",
    "\n",
    "@epochs epochs Flux.train!(loss, params(model), (train,), opt, cb = throttle(evalcb, 10));"
   ]
  }
 ],
 "metadata": {
  "kernelspec": {
   "display_name": "Julia 1.5.2",
   "language": "julia",
   "name": "julia-1.5"
  },
  "language_info": {
   "file_extension": ".jl",
   "mimetype": "application/julia",
   "name": "julia",
   "version": "1.5.2"
  }
 },
 "nbformat": 4,
 "nbformat_minor": 4
}
